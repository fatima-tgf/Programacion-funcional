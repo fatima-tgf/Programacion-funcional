{
 "cells": [
  {
   "cell_type": "markdown",
   "metadata": {},
   "source": [
    "# Funciones con iteración\n",
    "\n",
    "\n",
    "## ¿Qué es una iteración?\n",
    "\n",
    "La iteración es el acto de **repetir un proceso**, para generar una secuencia de resultados (posiblemente ilimitada), con el objetivo de acercarse a un propósito o resultado deseado. En el contexto de las matemáticas o la informática, la iteración (junto con la técnica relacionada de recursión) es un bloque de construcción estándar de algoritmos.\n",
    "\n",
    "## ¿Qué es un iterador?\n",
    "\n",
    "La filosofía de los iteradores, busca la **simplicidad** de las operaciones, evitando la duplicación del esfuerzo, el cual es un derroche y busca reemplazar varios de los enfoques propios con una característica estándar, normalmente, deriva en hacer las cosas más legibles además de más interoperable.\n"
   ]
  },
  {
   "cell_type": "markdown",
   "metadata": {},
   "source": [
    "## Función `filter()`\n",
    "\n",
    "Viene del inglés y literalmente significa _filtrar_. A partir de una lista o iterador y una función condicional, es capaz de devolver una nueva colección con los elementos filtrados que cumplan la condición.\n",
    "\n",
    "**Sintaxis:**\n",
    "\n",
    " `filter(func, sec)\n",
    " return dev`\n",
    " \n",
    "Parámetros:\n",
    "- func: función que prueba si cada elemento de una secuencia verdadera o no.\n",
    "- sec: secuencia que necesita ser filtrada, puede ser conjuntos, listas, tuplas o contenedores de cualquier iterador.\n",
    "- dev: devuelve un iterador que ya está filtrado."
   ]
  },
  {
   "cell_type": "code",
   "execution_count": 26,
   "metadata": {},
   "outputs": [
    {
     "name": "stdout",
     "output_type": "stream",
     "text": [
      "Las letras filtradas son:\n",
      "e\n",
      "a\n"
     ]
    }
   ],
   "source": [
    "# función que filtra las vocales\n",
    "def fun(variable):\n",
    "    vocales = ['a', 'e', 'i', 'o', 'u']\n",
    "    if (variable in vocales):\n",
    "        return True\n",
    "    else:\n",
    "        return False\n",
    "    \n",
    "# definiendo la secuencia\n",
    "secuencia = ['g', 'e', 'a', 'j', 'k', 's', 'p', 'r']\n",
    "  \n",
    "# usando la función filtrar\n",
    "filtrada = filter(fun, secuencia)\n",
    "  \n",
    "print(\"Las letras filtradas son:\")\n",
    "for s in filtrada:\n",
    "    print(s)"
   ]
  },
  {
   "cell_type": "markdown",
   "metadata": {},
   "source": [
    "\n",
    "## Función `map()`\n",
    "\n",
    "La función `map()` devuelve un objeto de mapa (que es un iterador) de los resultados después de aplicar la función dada a cada elemento de un iterable dado (lista, tupla, etc.)\n",
    "\n",
    "**Sintaxis:**\n",
    "\n",
    " `map(func, iter)`\n",
    "\n",
    "Parámetros:\n",
    "- func : Es una función a la que map pasa cada elemento de iterable dado.\n",
    "- iter: es un iterable que se va a mapear."
   ]
  },
  {
   "cell_type": "code",
   "execution_count": 27,
   "metadata": {},
   "outputs": [
    {
     "name": "stdout",
     "output_type": "stream",
     "text": [
      "[2, 4, 6, 8]\n"
     ]
    }
   ],
   "source": [
    "# devolver el doble de n\n",
    "def suma(n):\n",
    "    return n + n\n",
    "  \n",
    "# Duplicamos los números usando map()\n",
    "numeros = (1, 2, 3, 4) #secuencia de entrada\n",
    "#nueva secuencia transformada\n",
    "resultado = map(suma, numeros)\n",
    "print(list(resultado))"
   ]
  },
  {
   "cell_type": "markdown",
   "metadata": {},
   "source": [
    "también podemos utilizar funciones lambda con la función `map()`"
   ]
  },
  {
   "cell_type": "code",
   "execution_count": 28,
   "metadata": {},
   "outputs": [
    {
     "name": "stdout",
     "output_type": "stream",
     "text": [
      "[2, 4, 6, 8]\n"
     ]
    }
   ],
   "source": [
    "# Duplicando n utilizando lambda y map()\n",
    "  \n",
    "numeros = (1, 2, 3, 4)\n",
    "resultado = map(lambda x: x + x, numeros)\n",
    "print(list(resultado))"
   ]
  },
  {
   "cell_type": "markdown",
   "metadata": {},
   "source": [
    "## Función generadora\n",
    "\n",
    "Por regla general, cuando queremos crear una lista de algún tipo, lo que hacemos es crear la lista vacía, y luego con una **iteración** varios elementos e ir añadiendolos a la lista si cumplen una condición:"
   ]
  },
  {
   "cell_type": "code",
   "execution_count": 29,
   "metadata": {},
   "outputs": [
    {
     "name": "stdout",
     "output_type": "stream",
     "text": [
      "[0, 2, 4, 6, 8, 10]\n"
     ]
    }
   ],
   "source": [
    "numero = [numero for numero in [0,1,2,3,4,5,6,7,8,9,10] if numero % 2 == 0]\n",
    "print(numero)"
   ]
  },
  {
   "cell_type": "code",
   "execution_count": 30,
   "metadata": {},
   "outputs": [
    {
     "name": "stdout",
     "output_type": "stream",
     "text": [
      "[0, 2, 4, 6, 8, 10]\n"
     ]
    }
   ],
   "source": [
    "#Acortamos la secuencia manual utlizando la función range()\n",
    "numero= [numero for numero in range(0,11) if numero % 2 == 0 ]\n",
    "print(numero)"
   ]
  },
  {
   "cell_type": "markdown",
   "metadata": {},
   "source": [
    "## Iteradores\n",
    "\n",
    "Un iterador es un objeto adherido al _iterator protocol_ , básicamente esto significa que tiene una función `next()` o `iter()`, es decir, cuando se le llama, devuelve el siguiente elemento en la secuencia. Cuando no queda nada para ser devuelto, lanza la excepción `StopIteration` y se detiene la iteración.\n",
    "\n",
    "Los iteradores y objetos iterables (o simplemente iterables) se usan todo el tiempo, aunque a menudo de forma indirecta, y constituyen la base del bucle `for` y de funcionalidades más complejas como los generadores `(yield)` y las tareas asincrónicas `(async)`."
   ]
  },
  {
   "cell_type": "code",
   "execution_count": 31,
   "metadata": {},
   "outputs": [
    {
     "name": "stdout",
     "output_type": "stream",
     "text": [
      "A\n",
      "B\n",
      "C\n",
      "D\n"
     ]
    }
   ],
   "source": [
    "# Imprimir cada uno de los elementos de la lista en una nueva línea.\n",
    "lista = [\"A\", \"B\", \"C\", \"D\"] #contenedor\n",
    "for elemento in lista:  #iteración\n",
    "    print(elemento)"
   ]
  },
  {
   "cell_type": "code",
   "execution_count": 32,
   "metadata": {},
   "outputs": [
    {
     "name": "stdout",
     "output_type": "stream",
     "text": [
      "A\n",
      "B\n",
      "C\n",
      "D\n"
     ]
    }
   ],
   "source": [
    "# Implementación del código anterior usando un while.\n",
    "lista = [\"A\", \"B\", \"C\", \"D\"] #contenedor\n",
    "i = 0\n",
    "while i < len(lista):        #Iteración con while en lugar de for     \n",
    "    elemento = lista[i]\n",
    "    print(elemento)  \n",
    "    i += 1"
   ]
  },
  {
   "cell_type": "markdown",
   "metadata": {},
   "source": [
    "Aquí es donde aparecen los iteradores. En lugar de que la implementación del `for` contemple cada contenedor (diccionario, tupla, lista) habido y por haber, cada tipo de dato (listas, tuplas, diccionarios, rangos, conjuntos, cadenas, etc.) será responsable de proveer su **propio iterador** que contenga dentro de sí la lógica para recorrer sus elementos. Por eso dijimos al principio, y reiteramos ahora, que la tarea de un iterador es _obtener elementos de un contenedor_. \n",
    "\n",
    "El funcionamiento de un iterador es bastante sencillo: expone una función `next()` que retorna un elemento del contenedor o lanza la excepción `StopIteration` cuando no restan elementos por retornar. El iterador de una lista podría verse más o menos así:"
   ]
  },
  {
   "cell_type": "code",
   "execution_count": 33,
   "metadata": {},
   "outputs": [
    {
     "name": "stdout",
     "output_type": "stream",
     "text": [
      "rojo\n",
      "amarillo\n",
      "azul\n",
      "('rojo', 'amarillo', 'azul')\n",
      "<tuple_iterator object at 0x000001CD1847A288>\n"
     ]
    }
   ],
   "source": [
    "mi_tupla = (\"rojo\", \"amarillo\", \"azul\") #contenedor\n",
    "myit = iter(mi_tupla) #iterable\n",
    "print(next(myit))\n",
    "print(next(myit))\n",
    "print(next(myit))\n",
    "\n",
    "print(mi_tupla)\n",
    "print(myit)"
   ]
  },
  {
   "cell_type": "code",
   "execution_count": 34,
   "metadata": {},
   "outputs": [
    {
     "name": "stdout",
     "output_type": "stream",
     "text": [
      "r\n",
      "o\n",
      "j\n",
      "o\n"
     ]
    },
    {
     "ename": "StopIteration",
     "evalue": "",
     "output_type": "error",
     "traceback": [
      "\u001b[1;31m---------------------------------------------------------------------------\u001b[0m",
      "\u001b[1;31mStopIteration\u001b[0m                             Traceback (most recent call last)",
      "\u001b[1;32m<ipython-input-34-52af9da4216f>\u001b[0m in \u001b[0;36m<module>\u001b[1;34m\u001b[0m\n\u001b[0;32m      5\u001b[0m \u001b[0mprint\u001b[0m\u001b[1;33m(\u001b[0m\u001b[0mnext\u001b[0m\u001b[1;33m(\u001b[0m\u001b[0mmyit\u001b[0m\u001b[1;33m)\u001b[0m\u001b[1;33m)\u001b[0m\u001b[1;33m\u001b[0m\u001b[1;33m\u001b[0m\u001b[0m\n\u001b[0;32m      6\u001b[0m \u001b[0mprint\u001b[0m\u001b[1;33m(\u001b[0m\u001b[0mnext\u001b[0m\u001b[1;33m(\u001b[0m\u001b[0mmyit\u001b[0m\u001b[1;33m)\u001b[0m\u001b[1;33m)\u001b[0m\u001b[1;33m\u001b[0m\u001b[1;33m\u001b[0m\u001b[0m\n\u001b[1;32m----> 7\u001b[1;33m \u001b[0mprint\u001b[0m\u001b[1;33m(\u001b[0m\u001b[0mnext\u001b[0m\u001b[1;33m(\u001b[0m\u001b[0mmyit\u001b[0m\u001b[1;33m)\u001b[0m\u001b[1;33m)\u001b[0m \u001b[1;31m# en esta línea se han agotado los elementos y aparecerá 'StopIteration'\u001b[0m\u001b[1;33m\u001b[0m\u001b[1;33m\u001b[0m\u001b[0m\n\u001b[0m\u001b[0;32m      8\u001b[0m \u001b[0mprint\u001b[0m\u001b[1;33m(\u001b[0m\u001b[0mnext\u001b[0m\u001b[1;33m(\u001b[0m\u001b[0mmyit\u001b[0m\u001b[1;33m)\u001b[0m\u001b[1;33m)\u001b[0m\u001b[1;33m\u001b[0m\u001b[1;33m\u001b[0m\u001b[0m\n",
      "\u001b[1;31mStopIteration\u001b[0m: "
     ]
    }
   ],
   "source": [
    "mystr = \"rojo\" #contenedor, en este caso una cadena\n",
    "myit = iter(mystr)\n",
    "print(next(myit))\n",
    "print(next(myit))\n",
    "print(next(myit))\n",
    "print(next(myit))\n",
    "print(next(myit)) # en esta línea se han agotado los elementos y aparecerá 'StopIteration'\n",
    "print(next(myit))"
   ]
  },
  {
   "cell_type": "code",
   "execution_count": 35,
   "metadata": {},
   "outputs": [
    {
     "name": "stdout",
     "output_type": "stream",
     "text": [
      "0\n",
      "2\n",
      "4\n",
      "6\n",
      "8\n",
      "10\n"
     ]
    },
    {
     "ename": "StopIteration",
     "evalue": "",
     "output_type": "error",
     "traceback": [
      "\u001b[1;31m---------------------------------------------------------------------------\u001b[0m",
      "\u001b[1;31mStopIteration\u001b[0m                             Traceback (most recent call last)",
      "\u001b[1;32m<ipython-input-35-dda29abeae86>\u001b[0m in \u001b[0;36m<module>\u001b[1;34m\u001b[0m\n\u001b[0;32m      7\u001b[0m \u001b[0mprint\u001b[0m\u001b[1;33m(\u001b[0m\u001b[0mnext\u001b[0m\u001b[1;33m(\u001b[0m\u001b[0mmyit\u001b[0m\u001b[1;33m)\u001b[0m\u001b[1;33m)\u001b[0m\u001b[1;33m\u001b[0m\u001b[1;33m\u001b[0m\u001b[0m\n\u001b[0;32m      8\u001b[0m \u001b[0mprint\u001b[0m\u001b[1;33m(\u001b[0m\u001b[0mnext\u001b[0m\u001b[1;33m(\u001b[0m\u001b[0mmyit\u001b[0m\u001b[1;33m)\u001b[0m\u001b[1;33m)\u001b[0m\u001b[1;33m\u001b[0m\u001b[1;33m\u001b[0m\u001b[0m\n\u001b[1;32m----> 9\u001b[1;33m \u001b[0mprint\u001b[0m\u001b[1;33m(\u001b[0m\u001b[0mnext\u001b[0m\u001b[1;33m(\u001b[0m\u001b[0mmyit\u001b[0m\u001b[1;33m)\u001b[0m\u001b[1;33m)\u001b[0m \u001b[1;31m# en esta línea se han agotado los elementos y aparecerá 'StopIteration'\u001b[0m\u001b[1;33m\u001b[0m\u001b[1;33m\u001b[0m\u001b[0m\n\u001b[0m",
      "\u001b[1;31mStopIteration\u001b[0m: "
     ]
    }
   ],
   "source": [
    "mystr = [0, 2, 4, 6, 8, 10] #contenedor\n",
    "myit = iter(mystr)\n",
    "print(next(myit))\n",
    "print(next(myit))\n",
    "print(next(myit))\n",
    "print(next(myit))\n",
    "print(next(myit))\n",
    "print(next(myit))\n",
    "print(next(myit)) # en esta línea se han agotado los elementos y aparecerá 'StopIteration'"
   ]
  },
  {
   "cell_type": "code",
   "execution_count": null,
   "metadata": {},
   "outputs": [],
   "source": []
  }
 ],
 "metadata": {
  "kernelspec": {
   "display_name": "Python 3",
   "language": "python",
   "name": "python3"
  },
  "language_info": {
   "codemirror_mode": {
    "name": "ipython",
    "version": 3
   },
   "file_extension": ".py",
   "mimetype": "text/x-python",
   "name": "python",
   "nbconvert_exporter": "python",
   "pygments_lexer": "ipython3",
   "version": "3.7.7"
  }
 },
 "nbformat": 4,
 "nbformat_minor": 4
}
