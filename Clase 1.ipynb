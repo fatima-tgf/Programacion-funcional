{
 "cells": [
  {
   "cell_type": "markdown",
   "metadata": {},
   "source": [
    "## Práctica de declaración de funciones en Python ##\n",
    "\n",
    "Practicaremos declarar funciones utilizando _def_ y utilizando _lambda_"
   ]
  },
  {
   "cell_type": "code",
   "execution_count": 5,
   "metadata": {},
   "outputs": [
    {
     "name": "stdout",
     "output_type": "stream",
     "text": [
      "Ingresa dos valores\n",
      "ingresa el primer valor: a\n",
      "56.32\n",
      "ingresa el primer valor: b\n",
      "3.1416\n",
      "59.4616\n"
     ]
    }
   ],
   "source": [
    "print(\"Ingresa dos valores\")\n",
    "print(\"ingresa el primer valor: a\")\n",
    "a = float(input())\n",
    "a\n",
    "print(\"ingresa el primer valor: b\")\n",
    "b = float(input())\n",
    "b\n",
    "\n",
    "def suma(a,b):\n",
    "    c = a+b\n",
    "    return c\n",
    "\n",
    "suma(a,b)\n",
    "print(c)\n",
    "\n"
   ]
  },
  {
   "cell_type": "code",
   "execution_count": 4,
   "metadata": {},
   "outputs": [
    {
     "name": "stdout",
     "output_type": "stream",
     "text": [
      "Ingresa dos valores\n",
      "ingresa el primer valor: a\n",
      "56.32\n",
      "ingresa el primer valor: b\n",
      "3.1416\n",
      "59.4616\n"
     ]
    }
   ],
   "source": [
    "print(\"Ingresa dos valores\")\n",
    "print(\"ingresa el primer valor: a\")\n",
    "a = float(input())\n",
    "a\n",
    "print(\"ingresa el primer valor: b\")\n",
    "b = float(input())\n",
    "b\n",
    "c = a+b\n",
    "print(c)\n"
   ]
  },
  {
   "cell_type": "code",
   "execution_count": 8,
   "metadata": {},
   "outputs": [
    {
     "name": "stdout",
     "output_type": "stream",
     "text": [
      "Ingresa dos valores\n",
      "ingresa el primer valor: a\n",
      "56.32\n",
      "ingresa el primer valor: b\n",
      "3.1416\n"
     ]
    },
    {
     "data": {
      "text/plain": [
       "59.4616"
      ]
     },
     "execution_count": 8,
     "metadata": {},
     "output_type": "execute_result"
    }
   ],
   "source": [
    "print(\"Ingresa dos valores\")\n",
    "print(\"ingresa el primer valor: a\")\n",
    "a = float(input())\n",
    "a\n",
    "print(\"ingresa el primer valor: b\")\n",
    "b = float(input())\n",
    "b\n",
    "\n",
    "suma = lambda a,b: a+b\n",
    "\n",
    "suma(a,b)\n"
   ]
  },
  {
   "cell_type": "code",
   "execution_count": 9,
   "metadata": {},
   "outputs": [
    {
     "ename": "NameError",
     "evalue": "name 'c' is not defined",
     "output_type": "error",
     "traceback": [
      "\u001b[1;31m---------------------------------------------------------------------------\u001b[0m",
      "\u001b[1;31mNameError\u001b[0m                                 Traceback (most recent call last)",
      "\u001b[1;32m<ipython-input-9-1dd5973cae19>\u001b[0m in \u001b[0;36m<module>\u001b[1;34m\u001b[0m\n\u001b[1;32m----> 1\u001b[1;33m \u001b[0mprint\u001b[0m\u001b[1;33m(\u001b[0m\u001b[0mc\u001b[0m\u001b[1;33m)\u001b[0m\u001b[1;33m\u001b[0m\u001b[1;33m\u001b[0m\u001b[0m\n\u001b[0m",
      "\u001b[1;31mNameError\u001b[0m: name 'c' is not defined"
     ]
    }
   ],
   "source": [
    "print(c)"
   ]
  },
  {
   "cell_type": "code",
   "execution_count": null,
   "metadata": {},
   "outputs": [],
   "source": []
  }
 ],
 "metadata": {
  "kernelspec": {
   "display_name": "Python 3",
   "language": "python",
   "name": "python3"
  },
  "language_info": {
   "codemirror_mode": {
    "name": "ipython",
    "version": 3
   },
   "file_extension": ".py",
   "mimetype": "text/x-python",
   "name": "python",
   "nbconvert_exporter": "python",
   "pygments_lexer": "ipython3",
   "version": "3.7.7"
  }
 },
 "nbformat": 4,
 "nbformat_minor": 4
}
