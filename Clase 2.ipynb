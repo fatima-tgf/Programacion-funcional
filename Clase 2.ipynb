{
 "cells": [
  {
   "cell_type": "markdown",
   "metadata": {},
   "source": [
    "# Clase 2. Funciones integradas, recursivas, max() y min(); y operadores encadenados"
   ]
  },
  {
   "cell_type": "markdown",
   "metadata": {},
   "source": [
    "\n",
    "## Funciones integradas\n",
    "\n",
    "La librería estándar de Python incluye muchas funciones. Las hay para hacer conversiones entre tipos, matemáticas, etc. Cada librería agrega otras funciones integradas dependiendo de la necesidad; por ejemplo, la librería Numpy tiene funciones integradas que nos permiten realizar operaciones entre arreglos como las matrices.\n",
    "\n",
    "Algunos ejemplos de funciones integradas en Python son:\n"
   ]
  },
  {
   "cell_type": "markdown",
   "metadata": {},
   "source": [
    "Función `len()`\n",
    "Devuelve el número de elementos de un tipo de secuencia o colección."
   ]
  },
  {
   "cell_type": "code",
   "execution_count": 43,
   "metadata": {},
   "outputs": [
    {
     "data": {
      "text/plain": [
       "17"
      ]
     },
     "execution_count": 43,
     "metadata": {},
     "output_type": "execute_result"
    }
   ],
   "source": [
    "len(\"universidad kuepa\")"
   ]
  },
  {
   "cell_type": "code",
   "execution_count": 44,
   "metadata": {},
   "outputs": [
    {
     "data": {
      "text/plain": [
       "6"
      ]
     },
     "execution_count": 44,
     "metadata": {},
     "output_type": "execute_result"
    }
   ],
   "source": [
    "lista1 = [1, 2, 3 , 4, 5, 6]\n",
    "len(lista1)"
   ]
  },
  {
   "cell_type": "markdown",
   "metadata": {},
   "source": [
    "Función `type()` \n",
    "Devuelve el tipo del objeto que recibe como argumento."
   ]
  },
  {
   "cell_type": "code",
   "execution_count": 58,
   "metadata": {},
   "outputs": [
    {
     "data": {
      "text/plain": [
       "int"
      ]
     },
     "execution_count": 58,
     "metadata": {},
     "output_type": "execute_result"
    }
   ],
   "source": [
    "type(2)"
   ]
  },
  {
   "cell_type": "code",
   "execution_count": 57,
   "metadata": {},
   "outputs": [
    {
     "data": {
      "text/plain": [
       "float"
      ]
     },
     "execution_count": 57,
     "metadata": {},
     "output_type": "execute_result"
    }
   ],
   "source": [
    "type(2.5)"
   ]
  },
  {
   "cell_type": "code",
   "execution_count": 55,
   "metadata": {},
   "outputs": [
    {
     "data": {
      "text/plain": [
       "bool"
      ]
     },
     "execution_count": 55,
     "metadata": {},
     "output_type": "execute_result"
    }
   ],
   "source": [
    "type(True)"
   ]
  },
  {
   "cell_type": "markdown",
   "metadata": {},
   "source": [
    "\n",
    "# Función max () y función min()\n",
    "\n",
    "Las funciones de máximo y mínimo son funciones integradas que realizan cálculos por nosotros.\n",
    "\n",
    "## Función `max ()`\n",
    "\n",
    "Esta función se usa para calcular el máximo de los valores pasados en su argumento y el valor lexicográficamente más grande si las cadenas se pasan como argumentos.\n",
    "\n",
    "## Función `min ()`\n",
    "\n",
    "Esta función se utiliza para calcular el mínimo de los valores pasados en su argumento y el valor lexicográficamente más pequeño si las cadenas se pasan como argumentos."
   ]
  },
  {
   "cell_type": "code",
   "execution_count": 46,
   "metadata": {},
   "outputs": [
    {
     "name": "stdout",
     "output_type": "stream",
     "text": [
      "b\n",
      "ab\n",
      "c\n",
      "a\n"
     ]
    }
   ],
   "source": [
    "#Función máximo y mínimo en cadenas\n",
    "l= [\"ab\", \"abc\", \"abd\", \"b\"] \n",
    "  \n",
    "l1=\"abc\"\n",
    "  \n",
    "print(max(l)) \n",
    "  \n",
    "print(min(l)) \n",
    "  \n",
    "print(max(l1)) \n",
    "  \n",
    "print(min(l1)) "
   ]
  },
  {
   "cell_type": "code",
   "execution_count": 47,
   "metadata": {},
   "outputs": [
    {
     "name": "stdout",
     "output_type": "stream",
     "text": [
      "89\n",
      "-39\n"
     ]
    }
   ],
   "source": [
    "#Función máximo y mínimo en listas con valores numéricos\n",
    "l2= [3.1416, 2.3, 5, 89, 12, -10, -39 ]\n",
    "\n",
    "print(max(l2)) \n",
    "  \n",
    "print(min(l2))\n"
   ]
  },
  {
   "cell_type": "markdown",
   "metadata": {},
   "source": [
    "\n",
    "# Funciones recursivas\n",
    "\n",
    "Las funciones recursivas son funciones que se llaman a sí mismas durante su propia ejecución. Ellas funcionan de forma similar a las iteraciones, pero debe encargarse de planificar el momento en que dejan de llamarse a sí mismas o tendrá una función recursiva infinita.\n",
    "\n",
    "Estas funciones se suelen utilizar para dividir una tarea en sub-tareas más simples de forma que sea más fácil abordar el problema y solucionarlo."
   ]
  },
  {
   "cell_type": "markdown",
   "metadata": {},
   "source": [
    "\n",
    "## Función recursiva sin retorno\n",
    "\n",
    "#### Sintaxis: \n",
    "\n",
    " `max(a,b,c,..,clave, predeterminado)`\n",
    " \n",
    "**Parámetros:** \n",
    "- a,b,c,.. : tipo similar de datos (enteros, cadenas, flotantes, etc.)\n",
    "- clave: función clave donde se pasan los parámetros iterables y se realiza la comparación\n",
    "- predeterminado: el valor predeterminado se pasa si el iterable dado está vacío\n",
    "- Valor de retorno:  devuelve el máximo de todos los argumentos.\n",
    "- Excepciones:  devuelve TypeError cuando se comparan tipos en conflicto.\n",
    "\n",
    "Un ejemplo de una función recursiva sin retorno, es el ejemplo de cuenta regresiva hasta cero a partir de un número:"
   ]
  },
  {
   "cell_type": "code",
   "execution_count": 48,
   "metadata": {},
   "outputs": [
    {
     "name": "stdout",
     "output_type": "stream",
     "text": [
      "4\n",
      "3\n",
      "2\n",
      "1\n",
      "Boooooooom!\n",
      "Fin de la función 0\n"
     ]
    }
   ],
   "source": [
    "def cuenta_regresiva(numero):\n",
    "    numero -= 1\n",
    "    if numero > 0:\n",
    "        print(numero)\n",
    "        cuenta_regresiva(numero) #En este punto la función se llama a si misma\n",
    "    else:\n",
    "        print(\"Boooooooom!\")\n",
    "        print(\"Fin de la función\", numero)\n",
    "        \n",
    "cuenta_regresiva(5)"
   ]
  },
  {
   "cell_type": "markdown",
   "metadata": {},
   "source": [
    "## Función recursiva con retorno\n",
    "\n",
    "#### Sintaxis: \n",
    " `min(a,b,c,.., clave, predeterminado)`\n",
    " \n",
    "**Parámetros:** \n",
    "- a,b,c,.. : tipo similar de datos.\n",
    "- clave: función clave donde se pasan los iterables y se realiza la comparación\n",
    "- predeterminado: el valor predeterminado se pasa si el iterable dado está vacío\n",
    "- Valor de retorno: devuelve el mínimo de todos los argumentos.\n",
    "- Excepciones: devuelve TypeError cuando se comparan tipos en conflicto.\n",
    "\n",
    "Un ejemplo de una función recursiva con retorno es el cálculo del factorial de un número, que corresponde al producto de todos los números desde 1 hasta el propio número. Ejemplo de definición de factorial: 5! = 1* 2* 3* 4* 5"
   ]
  },
  {
   "cell_type": "code",
   "execution_count": 49,
   "metadata": {},
   "outputs": [
    {
     "name": "stdout",
     "output_type": "stream",
     "text": [
      "Valor inicial -> 5\n",
      "Valor inicial -> 4\n",
      "Valor inicial -> 3\n",
      "Valor inicial -> 2\n",
      "Valor inicial -> 1\n",
      "valor final -> 1\n",
      "valor final -> 2\n",
      "valor final -> 6\n",
      "valor final -> 24\n",
      "valor final -> 120\n",
      "120\n"
     ]
    }
   ],
   "source": [
    "def factorial(num):\n",
    "    print(\"Valor inicial ->\",num)\n",
    "    if num > 1:\n",
    "        num = num * factorial(num -1) #En este punto la función se llama a si misma\n",
    "    print(\"valor final ->\",num)\n",
    "    return num\n",
    "\n",
    "print(factorial(5))"
   ]
  },
  {
   "cell_type": "markdown",
   "metadata": {},
   "source": [
    "# Operadores encadenados\n",
    "\n",
    "En Python podemos utlizar distintos tipos de operadores a la vez uniendolos mediante operadores lógicos.\n",
    "\n",
    "Recordemos que los operadores lógicos en Python son:\n",
    "\n",
    "| Símbolo | Descripción |\n",
    "|  :----:|  :----:|\n",
    "| `and` | Verdadero sólo si los dos elementos son verdaderos |\n",
    "| `or` | Verdadero si cualquiera de los elementos es verdadero |\n",
    "| `not` | Cambia el valor de Falso a Verdadero y viceversa |\n",
    " \n",
    "Al utilizar operadores encadenados, estos se basan en comprobar el resultado de cada mínima expresión y relacionarlos con operadores lógicos."
   ]
  },
  {
   "cell_type": "markdown",
   "metadata": {},
   "source": [
    "Normalmente para encadenar expresiones las unimos utilizando el operador lógico `and`:"
   ]
  },
  {
   "cell_type": "code",
   "execution_count": 50,
   "metadata": {},
   "outputs": [
    {
     "data": {
      "text/plain": [
       "True"
      ]
     },
     "execution_count": 50,
     "metadata": {},
     "output_type": "execute_result"
    }
   ],
   "source": [
    "1 < 2 and 2 < 3\n"
   ]
  },
  {
   "cell_type": "markdown",
   "metadata": {},
   "source": [
    "La condición para poder encadenar operadores es encontrar un **punto en común** entre ambas expresiones:"
   ]
  },
  {
   "cell_type": "code",
   "execution_count": 51,
   "metadata": {},
   "outputs": [
    {
     "data": {
      "text/plain": [
       "True"
      ]
     },
     "execution_count": 51,
     "metadata": {},
     "output_type": "execute_result"
    }
   ],
   "source": [
    "#En este caso 2 es el punto en común y no utlizamos operadores lógicos\n",
    "1 < 2 < 3"
   ]
  },
  {
   "cell_type": "code",
   "execution_count": 52,
   "metadata": {},
   "outputs": [
    {
     "name": "stdout",
     "output_type": "stream",
     "text": [
      "El número 102 no se encuentra entre 0 y 100\n"
     ]
    }
   ],
   "source": [
    "#Ejemplo utilizando AND\n",
    "numero = 102\n",
    "if numero >= 0 and numero <= 100:\n",
    "    print(\"El número {} se encuentra entre 0 y 100\".format(numero) )\n",
    "else:\n",
    "    print(\"El número {} no se encuentra entre 0 y 100\".format(numero))\n"
   ]
  },
  {
   "cell_type": "code",
   "execution_count": 53,
   "metadata": {},
   "outputs": [
    {
     "name": "stdout",
     "output_type": "stream",
     "text": [
      "El número 102 es o mayor a 0 o menor que 100\n"
     ]
    }
   ],
   "source": [
    "#Ejemplo utlizando OR\n",
    "numero = 102\n",
    "if numero >= 0 or numero <= 100:\n",
    "    print(\"El número {} es o mayor a 0 o menor que 100\".format(numero))\n",
    "else:\n",
    "    print(\"El número {} no se encuentra entre 0 y 100\".format(numero))\n"
   ]
  }
 ],
 "metadata": {
  "kernelspec": {
   "display_name": "Python 3",
   "language": "python",
   "name": "python3"
  },
  "language_info": {
   "codemirror_mode": {
    "name": "ipython",
    "version": 3
   },
   "file_extension": ".py",
   "mimetype": "text/x-python",
   "name": "python",
   "nbconvert_exporter": "python",
   "pygments_lexer": "ipython3",
   "version": "3.7.7"
  }
 },
 "nbformat": 4,
 "nbformat_minor": 4
}
